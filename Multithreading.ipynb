{
  "nbformat": 4,
  "nbformat_minor": 0,
  "metadata": {
    "colab": {
      "provenance": [],
      "include_colab_link": true
    },
    "kernelspec": {
      "name": "python3",
      "display_name": "Python 3"
    }
  },
  "cells": [
    {
      "cell_type": "markdown",
      "metadata": {
        "id": "view-in-github",
        "colab_type": "text"
      },
      "source": [
        "<a href=\"https://colab.research.google.com/github/yutikavora/Google_Colab/blob/main/Multithreading.ipynb\" target=\"_parent\"><img src=\"https://colab.research.google.com/assets/colab-badge.svg\" alt=\"Open In Colab\"/></a>"
      ]
    },
    {
      "cell_type": "markdown",
      "metadata": {
        "id": "Vyspcmg4ZfZG"
      },
      "source": [
        "* Running several threads is similar to running several different programs concurrently, but with the following benefits −\n",
        "\n",
        "  * Multiple threads within a process share the same data space with the main thread and can therefore share information or communicate with each other more easily than if they were separate processes.\n",
        "\n",
        "  * Threads sometimes called light-weight processes and they do not require much memory overhead; they are cheaper than processes.\n",
        "\n"
      ]
    },
    {
      "cell_type": "markdown",
      "metadata": {
        "id": "_4t4Gya217_r"
      },
      "source": [
        "syntax:\n",
        "\n",
        "\n",
        "```\n",
        "import threading\n",
        "t1=threading.thread(function1,args for function(in list form)) #creates new thread\n",
        "t2=threading.thread(function2,args for functon(in list form))\n",
        "t1.start()\n",
        "t2.start()\n",
        "t1.join()\n",
        "t2.join()\n",
        "```\n",
        "\n",
        "\n"
      ]
    },
    {
      "cell_type": "markdown",
      "metadata": {
        "id": "5zboUt1Bb_ni"
      },
      "source": [
        "# Starting a new thread"
      ]
    },
    {
      "cell_type": "code",
      "metadata": {
        "id": "r2ZXjvTlwH26",
        "colab": {
          "base_uri": "https://localhost:8080/"
        },
        "outputId": "801f36e6-25af-4572-a546-4c4c2fe7a14d"
      },
      "source": [
        "# Python program to illustrate the concept\n",
        "# of threading\n",
        "# importing the threading module\n",
        "import threading\n",
        "\n",
        "def print_cube(num):\n",
        "\tprint(\"Cube:\",(num * num * num))\n",
        "\n",
        "def print_square(num):\n",
        "\tprint(\"Square:\",(num * num))\n",
        "\n",
        "\t# creating thread\n",
        "t1 = threading.Thread(target=print_square, args=(10,))\n",
        "t2 = threading.Thread(target=print_cube, args=(10,))\n",
        "\n",
        "\t# starting thread 1\n",
        "t1.start()\n",
        "\t# starting thread 2\n",
        "t2.start()\n",
        "\n",
        "\t# wait until thread 1 is completely executed\n",
        "t1.join()\n",
        "\t# wait until thread 2 is completely executed\n",
        "t2.join()\n",
        "\n",
        "\t# both threads completely executed\n",
        "print(\"Done!\")\n"
      ],
      "execution_count": null,
      "outputs": [
        {
          "output_type": "stream",
          "name": "stdout",
          "text": [
            "Square: 100\n",
            "Cube: 1000\n",
            "Done!\n"
          ]
        }
      ]
    },
    {
      "cell_type": "markdown",
      "metadata": {
        "id": "j5SAixH1cKWS"
      },
      "source": [
        "# Threading module:\n",
        "\n",
        "threads are part of same process"
      ]
    },
    {
      "cell_type": "code",
      "metadata": {
        "colab": {
          "base_uri": "https://localhost:8080/"
        },
        "id": "2d_MRzfDa7RR",
        "outputId": "ab5af704-1c80-40d9-e6c3-03e8726ec692"
      },
      "source": [
        "# Python program to illustrate the concept\n",
        "# of threading\n",
        "import threading\n",
        "import os\n",
        "\n",
        "def task1():\n",
        "\tprint(\"Task 1 assigned to thread:\",threading.current_thread().name)\n",
        "\tprint(\"ID of process running task 1:\",os.getpid())\n",
        "\n",
        "def task2():\n",
        "\tprint(\"Task 2 assigned to thread:\",threading.current_thread().name)\n",
        "\tprint(\"ID of process running task 2: \",os.getpid())\n",
        "\n",
        "# print ID of current process\n",
        "print(\"ID of process running main program:\",os.getpid())\n",
        "\n",
        "# print name of main thread\n",
        "print(\"Main thread name: \",threading.current_thread().name)\n",
        "\n",
        "# creating threads\n",
        "t1 = threading.Thread(target=task1, name='t1')\n",
        "t2 = threading.Thread(target=task2, name='t2')\n",
        "\n",
        "# starting threads\n",
        "t1.start()\n",
        "t2.start()\n",
        "\n",
        "# wait until all threads finish\n",
        "t1.join()\n",
        "t2.join()\n"
      ],
      "execution_count": null,
      "outputs": [
        {
          "output_type": "stream",
          "name": "stdout",
          "text": [
            "ID of process running main program: 61\n",
            "Main thread name:  MainThread\n",
            "Task 1 assigned to thread: t1\n",
            "ID of process running task 1: 61\n",
            "Task 2 assigned to thread: t2\n",
            "ID of process running task 2:  61\n"
          ]
        }
      ]
    },
    {
      "cell_type": "markdown",
      "metadata": {
        "id": "lW1vjnRAcP3e"
      },
      "source": [
        "# Synchronization in threads"
      ]
    },
    {
      "cell_type": "code",
      "metadata": {
        "colab": {
          "base_uri": "https://localhost:8080/"
        },
        "id": "_2CXqQ65dH2_",
        "outputId": "1b4bd3d7-30fb-4399-f998-740d15c700c6"
      },
      "source": [
        "#example of race condition. here exoected output for each iteration is 200000 but due to race condition output is different in some iterations\n",
        "\n",
        "import threading\n",
        "\n",
        "# global variable x\n",
        "x = 0\n",
        "\n",
        "def increment():\n",
        "\tglobal x\n",
        "\tx += 1\n",
        "\n",
        "def thread_task():\n",
        "\n",
        "\tfor i in range(1000000):\n",
        "\t\tincrement()\n",
        "\n",
        "def main_task():\n",
        "\tglobal x\n",
        "\t# setting global variable x as 0\n",
        "\tx = 0\n",
        "\n",
        "\t# creating threads\n",
        "\tt1 = threading.Thread(target=thread_task)\n",
        "\tt2 = threading.Thread(target=thread_task)\n",
        "\n",
        "\t# start threads\n",
        "\tt1.start()\n",
        "\tt2.start()\n",
        "\n",
        "\t# wait until threads finish their job\n",
        "\tt1.join()\n",
        "\tt2.join()\n",
        "\n",
        "for i in range(10):\n",
        "\t\tmain_task()\n",
        "\t\tprint(\"Iteration:\",i,\" x =\",x)\n"
      ],
      "execution_count": null,
      "outputs": [
        {
          "output_type": "stream",
          "name": "stdout",
          "text": [
            "Iteration: 0  x = 1749682\n",
            "Iteration: 1  x = 1485493\n",
            "Iteration: 2  x = 1690532\n",
            "Iteration: 3  x = 1684586\n",
            "Iteration: 4  x = 1584775\n",
            "Iteration: 5  x = 1661892\n",
            "Iteration: 6  x = 1647585\n",
            "Iteration: 7  x = 1658543\n",
            "Iteration: 8  x = 1577427\n",
            "Iteration: 9  x = 1780812\n"
          ]
        }
      ]
    },
    {
      "cell_type": "markdown",
      "metadata": {
        "id": "0ge8WZ15KLZV"
      },
      "source": [
        "to overcome race condition lock object is created and same lock is passed as argument in both the threads therefore only one of them can access x variable. steps to be followed are\n",
        "\n",
        "1. create lock object\n",
        "2. pass lock object as argument of thread function\n",
        "3. acquire lock before entering critical section\n",
        "4. releas lock while exiting critical section"
      ]
    },
    {
      "cell_type": "code",
      "metadata": {
        "colab": {
          "base_uri": "https://localhost:8080/"
        },
        "id": "zLhvdQYEdMwy",
        "outputId": "7082d3bd-060a-4df6-b820-d8282535a0d3"
      },
      "source": [
        "import threading\n",
        "\n",
        "# global variable x\n",
        "x = 0\n",
        "\n",
        "def increment():\n",
        "\tglobal x\n",
        "\tx += 1\n",
        "\n",
        "def thread_task(lock):\n",
        "\tfor i in range(100000):\n",
        "\t\tlock.acquire()\n",
        "\t\tincrement()\n",
        "\t\tlock.release()\n",
        "\n",
        "def main_task():\n",
        "\tglobal x\n",
        "\t# setting global variable x as 0\n",
        "\tx = 0\n",
        "\n",
        "\t# creating a lock\n",
        "\tlock = threading.Lock()\n",
        "\n",
        "\t# creating threads\n",
        "\tt1 = threading.Thread(target=thread_task, args=(lock,))\n",
        "\tt2 = threading.Thread(target=thread_task, args=(lock,))\n",
        "\n",
        "\t# start threads\n",
        "\tt1.start()\n",
        "\tt2.start()\n",
        "\n",
        "\t# wait until threads finish their job\n",
        "\tt1.join()\n",
        "\tt2.join()\n",
        "\n",
        "for i in range(10):\n",
        "\t\tmain_task()\n",
        "\t\tprint(\"Iteration:\",i,\" x =\",x)\n"
      ],
      "execution_count": null,
      "outputs": [
        {
          "output_type": "stream",
          "name": "stdout",
          "text": [
            "Iteration: 0  x = 200000\n",
            "Iteration: 1  x = 200000\n",
            "Iteration: 2  x = 200000\n",
            "Iteration: 3  x = 200000\n",
            "Iteration: 4  x = 200000\n",
            "Iteration: 5  x = 200000\n",
            "Iteration: 6  x = 200000\n",
            "Iteration: 7  x = 200000\n",
            "Iteration: 8  x = 200000\n",
            "Iteration: 9  x = 200000\n"
          ]
        }
      ]
    }
  ]
}