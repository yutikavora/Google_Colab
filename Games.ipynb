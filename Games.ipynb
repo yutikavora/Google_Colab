{
  "nbformat": 4,
  "nbformat_minor": 0,
  "metadata": {
    "colab": {
      "provenance": [],
      "authorship_tag": "ABX9TyPnolZZ5K3XfDcElbruOp3C",
      "include_colab_link": true
    },
    "kernelspec": {
      "name": "python3",
      "display_name": "Python 3"
    },
    "language_info": {
      "name": "python"
    }
  },
  "cells": [
    {
      "cell_type": "markdown",
      "metadata": {
        "id": "view-in-github",
        "colab_type": "text"
      },
      "source": [
        "<a href=\"https://colab.research.google.com/github/yutikavora/Google_Colab/blob/main/Games.ipynb\" target=\"_parent\"><img src=\"https://colab.research.google.com/assets/colab-badge.svg\" alt=\"Open In Colab\"/></a>"
      ]
    },
    {
      "cell_type": "markdown",
      "source": [
        "FIZZ BUZZ GAME"
      ],
      "metadata": {
        "id": "Fb_40oTTppGG"
      }
    },
    {
      "cell_type": "code",
      "execution_count": null,
      "metadata": {
        "colab": {
          "base_uri": "https://localhost:8080/"
        },
        "id": "NYMz1JSOonRu",
        "outputId": "3aaeac5c-97cb-41d4-c077-a6f8f5029e22"
      },
      "outputs": [
        {
          "output_type": "stream",
          "name": "stdout",
          "text": [
            "1\n",
            "2\n",
            "fizz\n",
            "4\n",
            "buzz\n",
            "fizz\n",
            "7\n",
            "8\n",
            "fizz\n",
            "buzz\n",
            "11\n",
            "fizz\n",
            "13\n",
            "14\n",
            "fizzbuzz\n",
            "16\n",
            "17\n",
            "fizz\n",
            "19\n",
            "buzz\n",
            "fizz\n",
            "22\n",
            "23\n",
            "fizz\n",
            "buzz\n",
            "26\n",
            "fizz\n",
            "28\n",
            "29\n",
            "fizzbuzz\n",
            "31\n",
            "32\n",
            "fizz\n",
            "34\n",
            "buzz\n",
            "fizz\n",
            "37\n",
            "38\n",
            "fizz\n",
            "buzz\n",
            "41\n",
            "fizz\n",
            "43\n",
            "44\n",
            "fizzbuzz\n",
            "46\n",
            "47\n",
            "fizz\n",
            "49\n",
            "buzz\n",
            "fizz\n",
            "52\n",
            "53\n",
            "fizz\n",
            "buzz\n",
            "56\n",
            "fizz\n",
            "58\n",
            "59\n",
            "fizzbuzz\n",
            "61\n",
            "62\n",
            "fizz\n",
            "64\n",
            "buzz\n",
            "fizz\n",
            "67\n",
            "68\n",
            "fizz\n",
            "buzz\n",
            "71\n",
            "fizz\n",
            "73\n",
            "74\n",
            "fizzbuzz\n",
            "76\n",
            "77\n",
            "fizz\n",
            "79\n",
            "buzz\n",
            "fizz\n",
            "82\n",
            "83\n",
            "fizz\n",
            "buzz\n",
            "86\n",
            "fizz\n",
            "88\n",
            "89\n",
            "fizzbuzz\n",
            "91\n",
            "92\n",
            "fizz\n",
            "94\n",
            "buzz\n",
            "fizz\n",
            "97\n",
            "98\n",
            "fizz\n"
          ]
        }
      ],
      "source": [
        "for num in range(1,100):\n",
        "  if((num%15)==0):\n",
        "    print(\"fizzbuzz\")\n",
        "  elif((num%3)==0):\n",
        "    print(\"fizz\")\n",
        "  elif((num%5)==0):\n",
        "      print(\"buzz\")\n",
        "  else:\n",
        "      print(num)"
      ]
    },
    {
      "cell_type": "markdown",
      "source": [
        "SUM OF DIGITS"
      ],
      "metadata": {
        "id": "lCZ-KW_vpxAj"
      }
    },
    {
      "cell_type": "code",
      "source": [
        "num = int(input(\"Enter a number \"))\n",
        "sum = 0\n",
        "while(num!=0):\n",
        "  sum=sum+num%10\n",
        "  num=int(num/10)\n",
        "print(sum)"
      ],
      "metadata": {
        "colab": {
          "base_uri": "https://localhost:8080/"
        },
        "id": "Jl18x1eho7wu",
        "outputId": "02d7efc5-86c7-44ab-f45e-696035322574"
      },
      "execution_count": null,
      "outputs": [
        {
          "output_type": "stream",
          "name": "stdout",
          "text": [
            "Enter a number 123\n",
            "6\n"
          ]
        }
      ]
    },
    {
      "cell_type": "markdown",
      "source": [
        "NUMBER GUESSING GAME"
      ],
      "metadata": {
        "id": "2xjw8gZSp3zi"
      }
    },
    {
      "cell_type": "code",
      "source": [
        "import random\n",
        "r = random.randint(1,10)\n",
        "print(r)\n",
        "while(r>0):\n",
        "  i = int(input(\"Enter a number \"))\n",
        "  if(i>r):\n",
        "    print(\"Too High\")\n",
        "  elif(i<r):\n",
        "    print(\"Too Low\")\n",
        "  else:\n",
        "    print(\"You won\")\n",
        "    break"
      ],
      "metadata": {
        "colab": {
          "base_uri": "https://localhost:8080/"
        },
        "id": "Cyo-E8fspI1n",
        "outputId": "d5564d1e-e41c-4016-ec21-7317dc712fae"
      },
      "execution_count": null,
      "outputs": [
        {
          "output_type": "stream",
          "name": "stdout",
          "text": [
            "5\n",
            "Enter a number 1\n",
            "Too Low\n",
            "Enter a number 2\n",
            "Too Low\n",
            "Enter a number 6\n",
            "Too High\n",
            "Enter a number 7\n",
            "Too High\n",
            "Enter a number 5\n",
            "You won\n"
          ]
        }
      ]
    },
    {
      "cell_type": "markdown",
      "source": [
        "ADDITION GAME"
      ],
      "metadata": {
        "id": "msMXnll2qBPN"
      }
    },
    {
      "cell_type": "code",
      "source": [
        "import random\n",
        "level=1\n",
        "chance=3\n",
        "while(chance>0):\n",
        "  a = random.randint(10**(level-1),10**(level)-1)\n",
        "  b = random.randint(10**(level-1),10**(level)-1)\n",
        "  print(\"Sum of\",a,\"and\",b,\"= \")2\n",
        "  i=int(input())\n",
        "  if(a+b==i):\n",
        "    level=level+1\n",
        "    print(\"You reach to level\", level)\n",
        "    chance=3\n",
        "  else:\n",
        "    chance=chance-1\n",
        "    continue\n",
        "\n",
        "if(chance==0):\n",
        "  print(\"You lost\")"
      ],
      "metadata": {
        "colab": {
          "base_uri": "https://localhost:8080/"
        },
        "id": "U1Ct3ZX9pfUu",
        "outputId": "cbeaebc1-0ed4-4445-dbae-ba13233f964f"
      },
      "execution_count": null,
      "outputs": [
        {
          "output_type": "stream",
          "name": "stdout",
          "text": [
            "Sum of 5 and 5 = \n",
            "10\n",
            "You reach to level 2\n",
            "Sum of 79 and 44 = \n",
            "2\n",
            "Sum of 14 and 11 = \n",
            "2\n",
            "Sum of 70 and 41 = \n",
            "2\n",
            "You lost\n"
          ]
        }
      ]
    }
  ]
}