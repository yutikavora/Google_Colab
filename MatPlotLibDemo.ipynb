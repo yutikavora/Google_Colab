{
  "nbformat": 4,
  "nbformat_minor": 0,
  "metadata": {
    "colab": {
      "provenance": [],
      "authorship_tag": "ABX9TyMv0hYNQ8UpkHSLHiXCPGFj",
      "include_colab_link": true
    },
    "kernelspec": {
      "name": "python3",
      "display_name": "Python 3"
    },
    "language_info": {
      "name": "python"
    }
  },
  "cells": [
    {
      "cell_type": "markdown",
      "metadata": {
        "id": "view-in-github",
        "colab_type": "text"
      },
      "source": [
        "<a href=\"https://colab.research.google.com/github/yutikavora/Google_Colab/blob/main/MatPlotLibDemo.ipynb\" target=\"_parent\"><img src=\"https://colab.research.google.com/assets/colab-badge.svg\" alt=\"Open In Colab\"/></a>"
      ]
    },
    {
      "cell_type": "code",
      "execution_count": 1,
      "metadata": {
        "id": "8w1tY55ymFHs",
        "outputId": "1a6c4b07-1ccb-4e24-b805-ed789e59816e",
        "colab": {
          "base_uri": "https://localhost:8080/",
          "height": 827
        }
      },
      "outputs": [
        {
          "output_type": "stream",
          "name": "stderr",
          "text": [
            "<ipython-input-1-41714c79b0e3>:17: FutureWarning: Passing (type, 1) or '1type' as a synonym of type is deprecated; in a future version of numpy, it will be understood as (type, (1,)) / '(1,)type'.\n",
            "  rain_drops = np.zeros(n_drops, dtype=[('position', float, 2),\n",
            "<ipython-input-1-41714c79b0e3>:59: UserWarning: frames=None which we can infer the length of, did not pass an explicit *save_count* and passed cache_frame_data=True.  To avoid a possibly unbounded cache, frame data caching has been disabled. To suppress this warning either pass `cache_frame_data=False` or `save_count=MAX_FRAMES`.\n",
            "  animation = FuncAnimation(fig, update, interval=10)\n"
          ]
        },
        {
          "output_type": "display_data",
          "data": {
            "text/plain": [
              "<Figure size 700x700 with 1 Axes>"
            ],
            "image/png": "[encoded data removed]"
          },
          "metadata": {}
        }
      ],
      "source": [
        "import numpy as np\n",
        "import matplotlib.pyplot as plt\n",
        "from matplotlib.animation import FuncAnimation\n",
        "\n",
        "# Fixing random state for reproducibility\n",
        "np.random.seed(19680801)\n",
        "\n",
        "\n",
        "# Create new Figure and an Axes which fills it.\n",
        "fig = plt.figure(figsize=(7, 7))\n",
        "ax = fig.add_axes([0, 0, 1, 1], frameon=False)\n",
        "ax.set_xlim(0, 1), ax.set_xticks([])\n",
        "ax.set_ylim(0, 1), ax.set_yticks([])\n",
        "\n",
        "# Create rain data\n",
        "n_drops = 50\n",
        "rain_drops = np.zeros(n_drops, dtype=[('position', float, 2),\n",
        "                                      ('size',     float, 1),\n",
        "                                      ('growth',   float, 1),\n",
        "                                      ('color',    float, 4)])\n",
        "\n",
        "# Initialize the raindrops in random positions and with\n",
        "# random growth rates.\n",
        "rain_drops['position'] = np.random.uniform(0, 1, (n_drops, 2))\n",
        "rain_drops['growth'] = np.random.uniform(50, 200, n_drops)\n",
        "\n",
        "# Construct the scatter which we will update during animation\n",
        "# as the raindrops develop.\n",
        "scat = ax.scatter(rain_drops['position'][:, 0], rain_drops['position'][:, 1],\n",
        "                  s=rain_drops['size'], lw=0.5, edgecolors=rain_drops['color'],\n",
        "                  facecolors='none')\n",
        "\n",
        "\n",
        "def update(frame_number):\n",
        "    # Get an index which we can use to re-spawn the oldest raindrop.\n",
        "    current_index = frame_number % n_drops\n",
        "\n",
        "    # Make all colors more transparent as time progresses.\n",
        "    rain_drops['color'][:, 3] -= 1.0/len(rain_drops)\n",
        "    rain_drops['color'][:, 3] = np.clip(rain_drops['color'][:, 3], 0, 1)\n",
        "\n",
        "    # Make all circles bigger.\n",
        "    rain_drops['size'] += rain_drops['growth']\n",
        "\n",
        "    # Pick a new position for oldest rain drop, resetting its size,\n",
        "    # color and growth factor.\n",
        "    rain_drops['position'][current_index] = np.random.uniform(0, 1, 2)\n",
        "    rain_drops['size'][current_index] = 5\n",
        "    rain_drops['color'][current_index] = (0, 0, 0, 1)\n",
        "    rain_drops['growth'][current_index] = np.random.uniform(50, 200)\n",
        "\n",
        "    # Update the scatter collection, with the new colors, sizes and positions.\n",
        "    scat.set_edgecolors(rain_drops['color'])\n",
        "    scat.set_sizes(rain_drops['size'])\n",
        "    scat.set_offsets(rain_drops['position'])\n",
        "\n",
        "\n",
        "# Construct the animation, using the update function as the animation director.\n",
        "animation = FuncAnimation(fig, update, interval=10)\n",
        "plt.show()"
      ]
    }
  ]
}