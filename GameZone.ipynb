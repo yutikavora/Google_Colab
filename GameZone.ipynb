{
  "nbformat": 4,
  "nbformat_minor": 0,
  "metadata": {
    "colab": {
      "provenance": [],
      "authorship_tag": "ABX9TyPVuNqaIt3nP1BRMkK+4hao",
      "include_colab_link": true
    },
    "kernelspec": {
      "name": "python3",
      "display_name": "Python 3"
    },
    "language_info": {
      "name": "python"
    }
  },
  "cells": [
    {
      "cell_type": "markdown",
      "metadata": {
        "id": "view-in-github",
        "colab_type": "text"
      },
      "source": [
        "<a href=\"https://colab.research.google.com/github/yutikavora/Google_Colab/blob/main/GameZone.ipynb\" target=\"_parent\"><img src=\"https://colab.research.google.com/assets/colab-badge.svg\" alt=\"Open In Colab\"/></a>"
      ]
    },
    {
      "cell_type": "markdown",
      "source": [
        "FLAMES GAME\n",
        "\n"
      ],
      "metadata": {
        "id": "QN5CwJ9zD9et"
      }
    },
    {
      "cell_type": "code",
      "execution_count": null,
      "metadata": {
        "id": "FQ4yEnAwBwOG"
      },
      "outputs": [],
      "source": [
        "def flame_game():\n",
        "  n1=input(\"Enter first name:\")\n",
        "  n2=input(\"Enter second name:\")\n",
        "  n1=n1.replace(\" \",\"\")\n",
        "  n1 = n1.lower()\n",
        "  n2 = n2.lower()\n",
        "  n2=n2.replace(\" \",\"\")\n",
        "  n1=list(n1)\n",
        "  n2=list(n2)\n",
        "  for i in n1[:]:\n",
        "      if i in n2:\n",
        "          n1.remove(i)\n",
        "          n2.remove(i)\n",
        "  count=len(n1)+len(n2)\n",
        "  result = [\"Friends\", \"Love\", \"Affection\", \"Marriage\", \"Enemy\", \"Siblings\"]\n",
        "  while len(result) > 1 :\n",
        "\t  split_index = (count % len(result) - 1)\n",
        "\t  if (split_index>=0) :\n",
        "\t\t  right = result[split_index + 1 : ]\n",
        "\t\t  left = result[ : split_index]\n",
        "\t\t  result = right + left\n",
        "\t  else :\n",
        "\t\t  result = result[ : len(result) - 1]\n",
        "  print(result)"
      ]
    },
    {
      "cell_type": "markdown",
      "source": [
        "MOVIE GUESSING GAME\n",
        "\n"
      ],
      "metadata": {
        "id": "rhKn7IKMBT7t"
      }
    },
    {
      "cell_type": "code",
      "source": [
        "def movie_game():\n",
        "  import random\n",
        "  movie=[\"abcd\",\"ye jawani hai deewani\",\"abc\"]\n",
        "  name=random.choice(movie)\n",
        "  name.replace(\" \",\"\")\n",
        "  print(name)\n",
        "  ans=[]\n",
        "  for i in range(len(name)):\n",
        "    ans.append(\"_\")\n",
        "  print(ans)\n",
        "\n",
        "  counter=0\n",
        "  chance=3\n",
        "  while counter<len(name) and chance>0:\n",
        "    ch=input(\"Guess Character :\")\n",
        "    flag=False\n",
        "    for j in range(len(name)):\n",
        "      if ch==name[j]:\n",
        "        ans[j]=ch\n",
        "        counter=counter+1\n",
        "        print(ans)\n",
        "        flag=True\n",
        "    if(flag==False):\n",
        "      chance=chance-1\n",
        "      print(\"You guessed Wrong, remaining chances :\",chance)\n",
        "  if chance<=0:\n",
        "    print(\"YOU LOST\")\n",
        "    return False\n",
        "  else:\n",
        "    print(\"YOU WON\")\n",
        "    return True\n"
      ],
      "metadata": {
        "id": "yD12wyHSLkjB"
      },
      "execution_count": null,
      "outputs": []
    },
    {
      "cell_type": "markdown",
      "source": [
        "SNAKE LADDER GAME"
      ],
      "metadata": {
        "id": "kZBbUTYLnRCr"
      }
    },
    {
      "cell_type": "code",
      "source": [
        "import random\n",
        "def snake_ladder_game():\n",
        "  user_position=0\n",
        "  comp_position=0\n",
        "  snakes={97:78, 95:56, 88:24, 62:18, 48:26, 36:6, 32:10}\n",
        "  ladders={1:38, 4:14, 8:30, 28:76, 21:42, 50:67, 71:92, 80:99}\n",
        "\n",
        "  while user_position<100 and comp_position<100:\n",
        "    choice=int(input(\"Enter 1 to throw dice : \\n\"))\n",
        "    if choice==1:\n",
        "      user_dice=random.randint(1,6)\n",
        "      if 100-user_position<user_dice:\n",
        "        print(\"Waste move\\n\")\n",
        "\n",
        "        comp_dice=random.randint(1,6)\n",
        "        if 100-comp_position<comp_dice:\n",
        "          continue\n",
        "        comp_position+=comp_dice\n",
        "        if comp_position in snakes.keys():\n",
        "          comp_position=snakes[comp_position]\n",
        "        if comp_position in ladders.keys():\n",
        "          comp_position=ladders[comp_position]\n",
        "        print(\"Computer is on \",comp_position)\n",
        "        continue\n",
        "\n",
        "      print(\"dice number is \",user_dice)\n",
        "      user_position+=user_dice\n",
        "      if user_position in snakes.keys():\n",
        "        print(\"Snake bite, dropped from \",user_position,\" to \",snakes[user_position])\n",
        "        user_position=snakes[user_position]\n",
        "      if user_position in ladders.keys():\n",
        "        print(\"Got ladder from \",user_position,\" to \",ladders[user_position])\n",
        "        user_position=ladders[user_position]\n",
        "      print(\"Your current position is \",user_position)\n",
        "\n",
        "      comp_dice=random.randint(1,6)\n",
        "      if 100-comp_position<comp_dice:\n",
        "        continue\n",
        "      comp_position+=comp_dice\n",
        "      if comp_position in snakes.keys():\n",
        "        comp_position=snakes[comp_position]\n",
        "      if comp_position in ladders.keys():\n",
        "        comp_position=ladders[comp_position]\n",
        "      print(\"Computer is on \",comp_position)\n",
        "  if user_position==100:\n",
        "    print(\"User Won\")\n",
        "    return True\n",
        "  else:\n",
        "    print(\"User Lost\")\n",
        "    return False\n"
      ],
      "metadata": {
        "id": "A65OF_om_6GM"
      },
      "execution_count": null,
      "outputs": []
    },
    {
      "cell_type": "markdown",
      "source": [
        "ROCK-PAPER-SCISSOR GAME"
      ],
      "metadata": {
        "id": "FvY9hB11oVvs"
      }
    },
    {
      "cell_type": "code",
      "source": [
        "import random\n",
        "def rock_game():\n",
        "  user_ch = int(input(\"Please give your choice:\\n 1. Rock\\n 2. Paper\\n 3.Scissor\\n\"))\n",
        "  if user_ch==1:\n",
        "    user_choice=\"rock\"\n",
        "  elif user_ch==2:\n",
        "    user_choice=\"paper\"\n",
        "  else:\n",
        "    user_choice=\"scissor\"\n",
        "  comp_ch=random.randint(1,3)\n",
        "\n",
        "  while comp_ch==user_ch:\n",
        "    comp_ch=random.randint(1,3)\n",
        "\n",
        "  if comp_ch==1:\n",
        "    comp_choice=\"rock\"\n",
        "  elif comp_ch==2:\n",
        "    comp_choice=\"paper\"\n",
        "  else:\n",
        "    comp_choice=\"scissor\"\n",
        "\n",
        "  print(\"User's choice is :\",user_choice)\n",
        "  print(\"Computer's choice is :\",comp_choice)\n",
        "\n",
        "  if (user_choice==1 and comp_choice==2) or (user_choice==2 and comp_choice==1):\n",
        "    print(\"Paper Wins!\",end='')\n",
        "    result=\"paper\"\n",
        "  elif (user_choice==1 and comp_choice==3) or (user_choice==3 and comp_choice==1):\n",
        "    print(\"Rock Wins!\",end='')\n",
        "    result=\"rock\"\n",
        "  else:\n",
        "    print(\"Scissor Wins\",end='')\n",
        "    result=\"scissor\"\n",
        "\n",
        "  if result==user_choice:\n",
        "    print(\"\\nUser Won!\")\n",
        "    return True\n",
        "  else:\n",
        "    print(\"\\nUser Lost!\")\n",
        "    return False\n"
      ],
      "metadata": {
        "id": "ew3JBlwLCw9H"
      },
      "execution_count": null,
      "outputs": []
    },
    {
      "cell_type": "markdown",
      "source": [
        "RESTAURANT"
      ],
      "metadata": {
        "id": "0um4qDlsrlTr"
      }
    },
    {
      "cell_type": "code",
      "source": [
        "def restaurant():\n",
        "  print(\"\\n\\nMENU\\n\\n1.Pizza Rs.50\\n2.Burger Rs.20\\n3.Nachoes Rs.10\\n4.Pasta Rs.70\")\n",
        "  print(\"Please write done when u complete your order\")\n",
        "  n = 1\n",
        "  products = {\"Pizza\":50, \"Burger\":20, \"Nachoes\": 10, \"Pasta\":70}\n",
        "  order = dict()\n",
        "  while(n!= 2):\n",
        "    item = input(\"Enter the item \")\n",
        "    if(item != \"done\"):\n",
        "      quantity = int(input(\"Enter the quantity \"))\n",
        "      order[item] = quantity\n",
        "    else:\n",
        "      break\n",
        "  print(order)\n",
        "  c = int(input(\"Confirm? 1/0\\n\"))\n",
        "  total = 0\n",
        "  if c==1:\n",
        "    for i,j in products.items():\n",
        "      for k,l in order.items():\n",
        "        total = total + (j*l)\n",
        "  else:\n",
        "    while(c==0):\n",
        "      print(\"\\n\\nChoose what to update\\n1.Change quantity\\n2.Add new item\\n3.Remove item\")\n",
        "      ch= int(input())\n",
        "      if(ch==1):\n",
        "        item = input(\"Please enter the item name: \")\n",
        "        quantity = int(input(\"Please update the quantity :\"))\n",
        "        order[item]=quantity\n",
        "        print(order)\n",
        "      if(ch==2):\n",
        "        item = input(\"Please enter the new item name: \")\n",
        "        quantity = int(input(\"Please update the quantity :\"))\n",
        "        order[item]=quantity\n",
        "        print(order)\n",
        "      if(ch==3):\n",
        "        item = input(\"Please enter the item name to delete: \")\n",
        "        del order[item]\n",
        "        print(order)\n",
        "      c = int(input(\"Confirm? 1/0\\n\"))\n",
        "    for i,j in products.items():\n",
        "      for k,l in order.items():\n",
        "        total = total + (j*l)\n",
        "  print(\"\\n\\nYour total order value is : \", total)\n",
        "  return total"
      ],
      "metadata": {
        "id": "FbmzZH5hrkrj"
      },
      "execution_count": null,
      "outputs": []
    },
    {
      "cell_type": "markdown",
      "source": [
        "MAIN GAME_ZONE"
      ],
      "metadata": {
        "id": "dWamgLnoolRj"
      }
    },
    {
      "cell_type": "code",
      "source": [
        "score = 500\n",
        "while(score<=500 and score>0):\n",
        "  print(\"\\n\\n1.Flames Game - 30points\\n2.Movie Guessing Game - 30points\\n3.Snake-Ladder Game - 30points\\n4.Rock-Paper-Scissor Game - 30points\\n5.Go to restaurant\\n\")\n",
        "  print(\"You have\", score, \"points.\")\n",
        "  ch=int(input(\"Choose the game you want to play: \"))\n",
        "  if(ch==1):\n",
        "    flame_game()\n",
        "    score = score-30\n",
        "  elif(ch==2):\n",
        "    if(movie_game()):\n",
        "      score = score-30\n",
        "      score = score+20\n",
        "    else:\n",
        "      score = score-30\n",
        "  elif(ch==3):\n",
        "    if(snake_ladder_game()):\n",
        "      score = score-30\n",
        "      score = score+20\n",
        "    else:\n",
        "      score = score-30\n",
        "  elif(ch==4):\n",
        "    if(rock_game()):\n",
        "      score = score-30\n",
        "      score = score+20\n",
        "    else:\n",
        "      score = score-30\n",
        "  elif(ch==5):\n",
        "    score = score - restaurant()\n",
        "  else:\n",
        "    print(\"Invalid Entry\")\n",
        "    continue"
      ],
      "metadata": {
        "colab": {
          "base_uri": "https://localhost:8080/"
        },
        "id": "cV0RaW5Iok88",
        "outputId": "20e23e36-2696-4987-fda3-7d9d3f6a139b"
      },
      "execution_count": null,
      "outputs": [
        {
          "output_type": "stream",
          "name": "stdout",
          "text": [
            "\n",
            "\n",
            "1.Flames Game - 30points\n",
            "2.Movie Guessing Game - 30points\n",
            "3.Snake-Ladder Game - 30points\n",
            "4.Rock-Paper-Scissor Game - 30points\n",
            "5.Go to restaurant\n",
            "\n",
            "You have 500 points.\n",
            "Choose the game you want to play: 1\n",
            "Enter first name:raj\n",
            "Enter second name:simran\n",
            "['Friends']\n",
            "\n",
            "\n",
            "1.Flames Game - 30points\n",
            "2.Movie Guessing Game - 30points\n",
            "3.Snake-Ladder Game - 30points\n",
            "4.Rock-Paper-Scissor Game - 30points\n",
            "5.Go to restaurant\n",
            "\n",
            "You have 470 points.\n",
            "Choose the game you want to play: 2\n",
            "ye jawani hai deewani\n",
            "['_', '_', '_', '_', '_', '_', '_', '_', '_', '_', '_', '_', '_', '_', '_', '_', '_', '_', '_', '_', '_']\n",
            "Guess Character :1\n",
            "You guessed Wrong, remaining chances : 2\n",
            "Guess Character :1\n",
            "You guessed Wrong, remaining chances : 1\n",
            "Guess Character :1\n",
            "You guessed Wrong, remaining chances : 0\n",
            "YOU LOST\n",
            "\n",
            "\n",
            "1.Flames Game - 30points\n",
            "2.Movie Guessing Game - 30points\n",
            "3.Snake-Ladder Game - 30points\n",
            "4.Rock-Paper-Scissor Game - 30points\n",
            "5.Go to restaurant\n",
            "\n",
            "You have 440 points.\n",
            "Choose the game you want to play: 5\n",
            "\n",
            "\n",
            "MENU\n",
            "\n",
            "1.Pizza Rs.50\n",
            "2.Burger Rs.20\n",
            "3.Nachoes Rs.10\n",
            "4.Pasta Rs.70\n",
            "Please write done when u complete your order\n",
            "Enter the item Pizza\n",
            "Enter the quantity 1\n",
            "Enter the item Burger\n",
            "Enter the quantity 1\n",
            "Enter the item done\n",
            "{'Pizza': 1, 'Burger': 1}\n",
            "Confirm? 1/0\n",
            "0\n",
            "\n",
            "\n",
            "Choose what to update\n",
            "1.Change quantity\n",
            "2.Add new item\n",
            "3.Remove item\n",
            "3\n",
            "Please enter the item name to delete: Burger\n",
            "{'Pizza': 1}\n",
            "Confirm? 1/0\n",
            "1\n",
            "\n",
            "\n",
            "Your total order value is :  150\n",
            "\n",
            "\n",
            "1.Flames Game - 30points\n",
            "2.Movie Guessing Game - 30points\n",
            "3.Snake-Ladder Game - 30points\n",
            "4.Rock-Paper-Scissor Game - 30points\n",
            "5.Go to restaurant\n",
            "\n",
            "You have 290 points.\n",
            "Choose the game you want to play: 1\n",
            "Enter first name:you\n",
            "Enter second name:me\n",
            "['Friends']\n",
            "\n",
            "\n",
            "1.Flames Game - 30points\n",
            "2.Movie Guessing Game - 30points\n",
            "3.Snake-Ladder Game - 30points\n",
            "4.Rock-Paper-Scissor Game - 30points\n",
            "5.Go to restaurant\n",
            "\n",
            "You have 260 points.\n",
            "Choose the game you want to play: 5\n",
            "\n",
            "\n",
            "MENU\n",
            "\n",
            "1.Pizza Rs.50\n",
            "2.Burger Rs.20\n",
            "3.Nachoes Rs.10\n",
            "4.Pasta Rs.70\n",
            "Please write done when u complete your order\n",
            "Enter the item Nachoes\n",
            "Enter the quantity 2\n",
            "Enter the item Pasta\n",
            "Enter the quantity 3\n",
            "Enter the item done\n",
            "{'Nachoes': 2, 'Pasta': 3}\n",
            "Confirm? 1/0\n",
            "1\n",
            "\n",
            "\n",
            "Your total order value is :  750\n"
          ]
        }
      ]
    }
  ]
}