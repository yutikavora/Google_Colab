{
  "nbformat": 4,
  "nbformat_minor": 0,
  "metadata": {
    "colab": {
      "provenance": [],
      "authorship_tag": "ABX9TyPU8SVUTymdiCs+Y4UaJx2/",
      "include_colab_link": true
    },
    "kernelspec": {
      "name": "python3",
      "display_name": "Python 3"
    },
    "language_info": {
      "name": "python"
    }
  },
  "cells": [
    {
      "cell_type": "markdown",
      "metadata": {
        "id": "view-in-github",
        "colab_type": "text"
      },
      "source": [
        "<a href=\"https://colab.research.google.com/github/yutikavora/Google_Colab/blob/main/UserRegistrationUsingValidation.ipynb\" target=\"_parent\"><img src=\"https://colab.research.google.com/assets/colab-badge.svg\" alt=\"Open In Colab\"/></a>"
      ]
    },
    {
      "cell_type": "code",
      "execution_count": null,
      "metadata": {
        "id": "9KEevatKeJrv",
        "colab": {
          "base_uri": "https://localhost:8080/",
          "height": 250
        },
        "outputId": "62534a82-9dc8-4beb-830b-c84ffc1735ec"
      },
      "outputs": [
        {
          "output_type": "error",
          "ename": "OperationalError",
          "evalue": "ignored",
          "traceback": [
            "\u001b[0;31m---------------------------------------------------------------------------\u001b[0m",
            "\u001b[0;31mOperationalError\u001b[0m                          Traceback (most recent call last)",
            "\u001b[0;32m<ipython-input-3-ae0ae07eb1c3>\u001b[0m in \u001b[0;36m<cell line: 36>\u001b[0;34m()\u001b[0m\n\u001b[1;32m     34\u001b[0m \u001b[0mcr\u001b[0m\u001b[0;34m=\u001b[0m\u001b[0mc\u001b[0m\u001b[0;34m.\u001b[0m\u001b[0mcursor\u001b[0m\u001b[0;34m(\u001b[0m\u001b[0;34m)\u001b[0m\u001b[0;34m\u001b[0m\u001b[0;34m\u001b[0m\u001b[0m\n\u001b[1;32m     35\u001b[0m \u001b[0ms\u001b[0m\u001b[0;34m=\u001b[0m\u001b[0;34m\"create table details(id integer primary key autoincrement,name varchar(10),email varchar(20),phone_number integer(20),password varchar(16));\"\u001b[0m\u001b[0;34m\u001b[0m\u001b[0;34m\u001b[0m\u001b[0m\n\u001b[0;32m---> 36\u001b[0;31m \u001b[0mcr\u001b[0m\u001b[0;34m.\u001b[0m\u001b[0mexecute\u001b[0m\u001b[0;34m(\u001b[0m\u001b[0ms\u001b[0m\u001b[0;34m)\u001b[0m\u001b[0;34m\u001b[0m\u001b[0;34m\u001b[0m\u001b[0m\n\u001b[0m\u001b[1;32m     37\u001b[0m \u001b[0;34m\u001b[0m\u001b[0m\n\u001b[1;32m     38\u001b[0m \u001b[0mchoice\u001b[0m\u001b[0;34m=\u001b[0m\u001b[0mint\u001b[0m\u001b[0;34m(\u001b[0m\u001b[0minput\u001b[0m\u001b[0;34m(\u001b[0m\u001b[0;34m\"Enter \\n1.New Regestration\\n2.View Details\\n3.Update Details\\n\"\u001b[0m\u001b[0;34m)\u001b[0m\u001b[0;34m)\u001b[0m\u001b[0;34m\u001b[0m\u001b[0;34m\u001b[0m\u001b[0m\n",
            "\u001b[0;31mOperationalError\u001b[0m: table details already exists"
          ]
        }
      ],
      "source": [
        "import re\n",
        "import sqlite3\n",
        "\n",
        "def name_fn(name):\n",
        "  pat_name = re.compile(\"[A-Za-z]\")\n",
        "  if(pat_name.match(name) != None):\n",
        "    return True\n",
        "  else:\n",
        "    print(\"Please enter a valid name. \")\n",
        "\n",
        "def email_fn(email):\n",
        "  pat_email = re.compile(\"[A-Za-z0-9]+@gmail.com\")\n",
        "  if(pat_email.match(email)!= None):\n",
        "    return True\n",
        "  else:\n",
        "    print(\"Please enter a valid email. \")\n",
        "\n",
        "def phone_no_fn(phone_number):\n",
        "  pat_phone_no = re.compile(\"\\+91?[\\d]{11}\")\n",
        "  if(pat_phone_no.match(phone_number)!= None):\n",
        "    return True\n",
        "  else:\n",
        "    print(\"Please enter a valid phone number. \")\n",
        "\n",
        "def password_fn(password):\n",
        "  pat_password = re.compile(\"^(?=.*[a-z])(?=.*[A-Z])(?=.*\\d)(?=.*[@$!%*#?&])[A-Za-z\\d@$!#%*?&]{6,20}$\")\n",
        "  if(pat_password.match(password)):\n",
        "    return True\n",
        "  else:\n",
        "    print(\"Please enter a valid password\")\n",
        "\n",
        "import sqlite3\n",
        "c=sqlite3.connect(\"mydb.db\")\n",
        "cr=c.cursor()\n",
        "s=\"create table details(id integer primary key autoincrement,name varchar(10),email varchar(20),phone_number integer(20),password varchar(16));\"\n",
        "cr.execute(s)\n",
        "\n",
        "choice=int(input(\"Enter \\n1.New Regestration\\n2.View Details\\n3.Update Details\\n\"))\n",
        "\n",
        "if choice==1:\n",
        "  while True:\n",
        "    name=input(\"Enter your Name :\")\n",
        "    email=input(\"Enter your Email ID :\")\n",
        "    phone_number=input(\"Enter Phone :\")\n",
        "    password=input(\"Enter Password :\")\n",
        "\n",
        "    if name_fn(name) and email_fn(email) and phone_no_fn(phone_number) and password_fn(password):\n",
        "      \tbreak\n",
        "    else:\n",
        "      \tprint(\"Enter valid Inputs\\n\")\n",
        "\n",
        "  lst=[(name,email,phone_number,password)]\n",
        "  d=\"\"\"insert into details(name,email,phone_number,password) values(?,?,?,?);\"\"\"\n",
        "  cr.executemany(d,lst)\n",
        "\n",
        "  print(\"Success\")\n",
        "elif choice==2:\n",
        "  name=input(\"Enter Name :\")\n",
        "  password=input(\"Enter Password :\")\n",
        "  name=\"'\"+name+\"'\"\n",
        "  password=\"'\"+password+\"'\"\n",
        "\n",
        "  d=\"select * from ish where name=\"+name+\" and pass=\"+password+\";\"\n",
        "  cr.execute(d)\n",
        "  a=cr.fetchall()\n",
        "  if a:\n",
        "    print(a)\n",
        "  else:\n",
        "    print(\"User not Exist\")\n",
        "elif choice==3:\n",
        "  name=input(\"Enter Name :\")\n",
        "  password=input(\"Enter Password :\")\n",
        "  name=\"'\"+name+\"'\"\n",
        "  password=\"'\"+password+\"'\"\n",
        "  d=\"select * from ish where name=\"+n+\" and pass=\"+p+\";\"\n",
        "  cr.execute(d)\n",
        "  a=cr.fetchall()\n",
        "\n",
        "  if a:\n",
        "    x=input(\"Which details you want to update :\")\n",
        "    y=input(\"Enter updated detail :\")\n",
        "    y=\"'\"+y+\"'\"\n",
        "    d=\"update ish set \"+x+\"= \"+y+\" where name=\"+name+\" and pass=\"+password+\";\"\n",
        "    cr.execute(d)\n",
        "    print(\"Updated Successfully\")\n",
        "  else:\n",
        "    print(\"User not Exist\")\n",
        "\n",
        "c.commit()\n",
        "c.close()"
      ]
    }
  ]
}